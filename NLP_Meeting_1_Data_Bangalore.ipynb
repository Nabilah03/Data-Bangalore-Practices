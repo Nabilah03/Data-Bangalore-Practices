{
  "nbformat": 4,
  "nbformat_minor": 0,
  "metadata": {
    "colab": {
      "name": "NLP Meeting 1 - Data Bangalore.ipynb",
      "provenance": []
    },
    "kernelspec": {
      "name": "python3",
      "display_name": "Python 3"
    },
    "language_info": {
      "name": "python"
    }
  },
  "cells": [
    {
      "cell_type": "markdown",
      "source": [
        "## Import Libraries"
      ],
      "metadata": {
        "id": "7Hbunc-jraUR"
      }
    },
    {
      "cell_type": "markdown",
      "source": [
        "Gradio is used for model deployment. Python Sastrawi is a simple library that can convert words with Indonesian affixes into their basic form."
      ],
      "metadata": {
        "id": "p30hKwebroGY"
      }
    },
    {
      "cell_type": "code",
      "execution_count": 1,
      "metadata": {
        "colab": {
          "base_uri": "https://localhost:8080/"
        },
        "id": "vw9j8H7drNBX",
        "outputId": "b05b5a09-ab7d-4c6b-ff67-ad1ef8d824ec"
      },
      "outputs": [
        {
          "output_type": "stream",
          "name": "stdout",
          "text": [
            "\u001b[K     |████████████████████████████████| 659 kB 4.0 MB/s \n",
            "\u001b[K     |████████████████████████████████| 53 kB 1.8 MB/s \n",
            "\u001b[K     |████████████████████████████████| 2.0 MB 64.2 MB/s \n",
            "\u001b[K     |████████████████████████████████| 211 kB 56.5 MB/s \n",
            "\u001b[K     |████████████████████████████████| 84 kB 2.2 MB/s \n",
            "\u001b[K     |████████████████████████████████| 54 kB 2.6 MB/s \n",
            "\u001b[K     |████████████████████████████████| 255 kB 48.8 MB/s \n",
            "\u001b[K     |████████████████████████████████| 1.1 MB 28.9 MB/s \n",
            "\u001b[K     |████████████████████████████████| 271 kB 36.1 MB/s \n",
            "\u001b[K     |████████████████████████████████| 144 kB 49.0 MB/s \n",
            "\u001b[K     |████████████████████████████████| 94 kB 2.4 MB/s \n",
            "\u001b[K     |████████████████████████████████| 10.9 MB 18.1 MB/s \n",
            "\u001b[K     |████████████████████████████████| 58 kB 4.4 MB/s \n",
            "\u001b[K     |████████████████████████████████| 79 kB 2.6 MB/s \n",
            "\u001b[K     |████████████████████████████████| 43 kB 975 kB/s \n",
            "\u001b[K     |████████████████████████████████| 61 kB 211 kB/s \n",
            "\u001b[K     |████████████████████████████████| 856 kB 44.6 MB/s \n",
            "\u001b[K     |████████████████████████████████| 3.6 MB 22.1 MB/s \n",
            "\u001b[K     |████████████████████████████████| 58 kB 3.4 MB/s \n",
            "\u001b[?25h  Building wheel for ffmpy (setup.py) ... \u001b[?25l\u001b[?25hdone\n",
            "  Building wheel for python-multipart (setup.py) ... \u001b[?25l\u001b[?25hdone\n",
            "\u001b[K     |████████████████████████████████| 210 kB 3.3 MB/s \n",
            "\u001b[?25h"
          ]
        }
      ],
      "source": [
        "!pip -q install gradio  \n",
        "!pip -q install PySastrawi"
      ]
    },
    {
      "cell_type": "markdown",
      "source": [
        "NLTK is for tokenization"
      ],
      "metadata": {
        "id": "hwk5_tCTs-v9"
      }
    },
    {
      "cell_type": "code",
      "source": [
        "#Standard Library\n",
        "import string\n",
        "import re\n",
        "\n",
        "#Third-party Library\n",
        "import numpy as np\n",
        "import pandas as pd\n",
        "import matplotlib.pyplot as plt\n",
        "import nltk\n",
        "from nltk.tokenize import word_tokenize\n",
        "from Sastrawi.Stemmer.StemmerFactory import StemmerFactory\n",
        "from sklearn.linear_model import LogisticRegression\n",
        "from sklearn.naive_bayes import MultinomialNB\n",
        "from sklearn.model_selection import train_test_split\n",
        "from sklearn.feature_extraction.text import CountVectorizer, TfidfVectorizer\n",
        "from sklearn.pipeline import Pipeline\n",
        "from sklearn.metrics import classification_report\n",
        "import gradio as gr\n",
        "\n",
        "nltk.download('punkt')\n",
        "pd.set_option(\"display.max_colwidth\", 1000)"
      ],
      "metadata": {
        "colab": {
          "base_uri": "https://localhost:8080/"
        },
        "id": "PmGwktoLrwom",
        "outputId": "c4199f68-3b59-45e1-ab8c-7e5ce7c205cd"
      },
      "execution_count": 2,
      "outputs": [
        {
          "output_type": "stream",
          "name": "stdout",
          "text": [
            "[nltk_data] Downloading package punkt to /root/nltk_data...\n",
            "[nltk_data]   Unzipping tokenizers/punkt.zip.\n"
          ]
        }
      ]
    },
    {
      "cell_type": "markdown",
      "source": [
        "## Data Collections"
      ],
      "metadata": {
        "id": "P9CuMgnztWHf"
      }
    },
    {
      "cell_type": "markdown",
      "source": [
        "The data used is reviews of an inn"
      ],
      "metadata": {
        "id": "1kC3krAetsTy"
      }
    },
    {
      "cell_type": "code",
      "source": [
        "!git clone https://github.com/rakkaalhazimi/Data-NLP-Bahasa-Indonesia.git"
      ],
      "metadata": {
        "colab": {
          "base_uri": "https://localhost:8080/"
        },
        "id": "ug-YvHdytyK3",
        "outputId": "3d6fe6e9-7d4c-4293-a36c-903f3415e8ed"
      },
      "execution_count": 3,
      "outputs": [
        {
          "output_type": "stream",
          "name": "stdout",
          "text": [
            "Cloning into 'Data-NLP-Bahasa-Indonesia'...\n",
            "remote: Enumerating objects: 41, done.\u001b[K\n",
            "remote: Counting objects: 100% (41/41), done.\u001b[K\n",
            "remote: Compressing objects: 100% (35/35), done.\u001b[K\n",
            "remote: Total 41 (delta 9), reused 21 (delta 4), pack-reused 0\u001b[K\n",
            "Unpacking objects: 100% (41/41), done.\n"
          ]
        }
      ]
    },
    {
      "cell_type": "code",
      "source": [
        "df = pd.read_csv(\"/content/Data-NLP-Bahasa-Indonesia/dataset_tweet_sentiment_cellular_service_provider.csv\")\n",
        "df.head()"
      ],
      "metadata": {
        "colab": {
          "base_uri": "https://localhost:8080/",
          "height": 206
        },
        "id": "gwvs5BrhtqOO",
        "outputId": "be43b994-13ea-4569-9543-fd6f5d8381a4"
      },
      "execution_count": 4,
      "outputs": [
        {
          "output_type": "execute_result",
          "data": {
            "text/plain": [
              "   Id Sentiment  \\\n",
              "0   1  positive   \n",
              "1   2  positive   \n",
              "2   3  negative   \n",
              "3   4  negative   \n",
              "4   5  negative   \n",
              "\n",
              "                                                                                                                  Text Tweet  \n",
              "0                                       <USER_MENTION> #BOIKOT_<PROVIDER_NAME> Gunakan Produk Bangsa Sendiri <PROVIDER_NAME>  \n",
              "1                                                                      Saktinya balik lagi, alhamdulillah :v <PROVIDER_NAME>  \n",
              "2  Selamat pagi <PROVIDER_NAME>  bisa bantu kenapa di dalam kamar sinyal 4G hilang yang 1 lagi panggilan darurat saja  <URL>  \n",
              "3                                                 Dear <PROVIDER_NAME> akhir2 ini jaringan data lemot banget padahal H+ !!!!  \n",
              "4                                                                                    Selamat malam PENDUSTA <PROVIDER_NAME>   "
            ],
            "text/html": [
              "\n",
              "  <div id=\"df-998abdb4-2f47-4e6a-9de0-a9d77aa223de\">\n",
              "    <div class=\"colab-df-container\">\n",
              "      <div>\n",
              "<style scoped>\n",
              "    .dataframe tbody tr th:only-of-type {\n",
              "        vertical-align: middle;\n",
              "    }\n",
              "\n",
              "    .dataframe tbody tr th {\n",
              "        vertical-align: top;\n",
              "    }\n",
              "\n",
              "    .dataframe thead th {\n",
              "        text-align: right;\n",
              "    }\n",
              "</style>\n",
              "<table border=\"1\" class=\"dataframe\">\n",
              "  <thead>\n",
              "    <tr style=\"text-align: right;\">\n",
              "      <th></th>\n",
              "      <th>Id</th>\n",
              "      <th>Sentiment</th>\n",
              "      <th>Text Tweet</th>\n",
              "    </tr>\n",
              "  </thead>\n",
              "  <tbody>\n",
              "    <tr>\n",
              "      <th>0</th>\n",
              "      <td>1</td>\n",
              "      <td>positive</td>\n",
              "      <td>&lt;USER_MENTION&gt; #BOIKOT_&lt;PROVIDER_NAME&gt; Gunakan Produk Bangsa Sendiri &lt;PROVIDER_NAME&gt;</td>\n",
              "    </tr>\n",
              "    <tr>\n",
              "      <th>1</th>\n",
              "      <td>2</td>\n",
              "      <td>positive</td>\n",
              "      <td>Saktinya balik lagi, alhamdulillah :v &lt;PROVIDER_NAME&gt;</td>\n",
              "    </tr>\n",
              "    <tr>\n",
              "      <th>2</th>\n",
              "      <td>3</td>\n",
              "      <td>negative</td>\n",
              "      <td>Selamat pagi &lt;PROVIDER_NAME&gt;  bisa bantu kenapa di dalam kamar sinyal 4G hilang yang 1 lagi panggilan darurat saja  &lt;URL&gt;</td>\n",
              "    </tr>\n",
              "    <tr>\n",
              "      <th>3</th>\n",
              "      <td>4</td>\n",
              "      <td>negative</td>\n",
              "      <td>Dear &lt;PROVIDER_NAME&gt; akhir2 ini jaringan data lemot banget padahal H+ !!!!</td>\n",
              "    </tr>\n",
              "    <tr>\n",
              "      <th>4</th>\n",
              "      <td>5</td>\n",
              "      <td>negative</td>\n",
              "      <td>Selamat malam PENDUSTA &lt;PROVIDER_NAME&gt;</td>\n",
              "    </tr>\n",
              "  </tbody>\n",
              "</table>\n",
              "</div>\n",
              "      <button class=\"colab-df-convert\" onclick=\"convertToInteractive('df-998abdb4-2f47-4e6a-9de0-a9d77aa223de')\"\n",
              "              title=\"Convert this dataframe to an interactive table.\"\n",
              "              style=\"display:none;\">\n",
              "        \n",
              "  <svg xmlns=\"http://www.w3.org/2000/svg\" height=\"24px\"viewBox=\"0 0 24 24\"\n",
              "       width=\"24px\">\n",
              "    <path d=\"M0 0h24v24H0V0z\" fill=\"none\"/>\n",
              "    <path d=\"M18.56 5.44l.94 2.06.94-2.06 2.06-.94-2.06-.94-.94-2.06-.94 2.06-2.06.94zm-11 1L8.5 8.5l.94-2.06 2.06-.94-2.06-.94L8.5 2.5l-.94 2.06-2.06.94zm10 10l.94 2.06.94-2.06 2.06-.94-2.06-.94-.94-2.06-.94 2.06-2.06.94z\"/><path d=\"M17.41 7.96l-1.37-1.37c-.4-.4-.92-.59-1.43-.59-.52 0-1.04.2-1.43.59L10.3 9.45l-7.72 7.72c-.78.78-.78 2.05 0 2.83L4 21.41c.39.39.9.59 1.41.59.51 0 1.02-.2 1.41-.59l7.78-7.78 2.81-2.81c.8-.78.8-2.07 0-2.86zM5.41 20L4 18.59l7.72-7.72 1.47 1.35L5.41 20z\"/>\n",
              "  </svg>\n",
              "      </button>\n",
              "      \n",
              "  <style>\n",
              "    .colab-df-container {\n",
              "      display:flex;\n",
              "      flex-wrap:wrap;\n",
              "      gap: 12px;\n",
              "    }\n",
              "\n",
              "    .colab-df-convert {\n",
              "      background-color: #E8F0FE;\n",
              "      border: none;\n",
              "      border-radius: 50%;\n",
              "      cursor: pointer;\n",
              "      display: none;\n",
              "      fill: #1967D2;\n",
              "      height: 32px;\n",
              "      padding: 0 0 0 0;\n",
              "      width: 32px;\n",
              "    }\n",
              "\n",
              "    .colab-df-convert:hover {\n",
              "      background-color: #E2EBFA;\n",
              "      box-shadow: 0px 1px 2px rgba(60, 64, 67, 0.3), 0px 1px 3px 1px rgba(60, 64, 67, 0.15);\n",
              "      fill: #174EA6;\n",
              "    }\n",
              "\n",
              "    [theme=dark] .colab-df-convert {\n",
              "      background-color: #3B4455;\n",
              "      fill: #D2E3FC;\n",
              "    }\n",
              "\n",
              "    [theme=dark] .colab-df-convert:hover {\n",
              "      background-color: #434B5C;\n",
              "      box-shadow: 0px 1px 3px 1px rgba(0, 0, 0, 0.15);\n",
              "      filter: drop-shadow(0px 1px 2px rgba(0, 0, 0, 0.3));\n",
              "      fill: #FFFFFF;\n",
              "    }\n",
              "  </style>\n",
              "\n",
              "      <script>\n",
              "        const buttonEl =\n",
              "          document.querySelector('#df-998abdb4-2f47-4e6a-9de0-a9d77aa223de button.colab-df-convert');\n",
              "        buttonEl.style.display =\n",
              "          google.colab.kernel.accessAllowed ? 'block' : 'none';\n",
              "\n",
              "        async function convertToInteractive(key) {\n",
              "          const element = document.querySelector('#df-998abdb4-2f47-4e6a-9de0-a9d77aa223de');\n",
              "          const dataTable =\n",
              "            await google.colab.kernel.invokeFunction('convertToInteractive',\n",
              "                                                     [key], {});\n",
              "          if (!dataTable) return;\n",
              "\n",
              "          const docLinkHtml = 'Like what you see? Visit the ' +\n",
              "            '<a target=\"_blank\" href=https://colab.research.google.com/notebooks/data_table.ipynb>data table notebook</a>'\n",
              "            + ' to learn more about interactive tables.';\n",
              "          element.innerHTML = '';\n",
              "          dataTable['output_type'] = 'display_data';\n",
              "          await google.colab.output.renderOutput(dataTable, element);\n",
              "          const docLink = document.createElement('div');\n",
              "          docLink.innerHTML = docLinkHtml;\n",
              "          element.appendChild(docLink);\n",
              "        }\n",
              "      </script>\n",
              "    </div>\n",
              "  </div>\n",
              "  "
            ]
          },
          "metadata": {},
          "execution_count": 4
        }
      ]
    },
    {
      "cell_type": "code",
      "source": [
        "#Check the alias names\n",
        "#We used \"?\" to only list characters until the first of \">\" \n",
        "#Explode() is to show the values\n",
        "df[\"Text Tweet\"].str.findall(\"(<.*?>)\").explode().value_counts()"
      ],
      "metadata": {
        "colab": {
          "base_uri": "https://localhost:8080/"
        },
        "id": "t99GDTisuaEq",
        "outputId": "7957dcb0-4a6d-428e-eb88-6826a9ef609f"
      },
      "execution_count": 5,
      "outputs": [
        {
          "output_type": "execute_result",
          "data": {
            "text/plain": [
              "<PROVIDER_NAME>    463\n",
              "<URL>               49\n",
              "<PRODUCT_NAME>      28\n",
              "<USER_MENTION>      20\n",
              "Name: Text Tweet, dtype: int64"
            ]
          },
          "metadata": {},
          "execution_count": 5
        }
      ]
    },
    {
      "cell_type": "code",
      "source": [
        "#Check emoticon\n",
        "#\\S -> other characters besides \"space (/s)\"\n",
        "df[\"Text Tweet\"].str.findall(\"(:\\S+)\").explode().value_counts()"
      ],
      "metadata": {
        "colab": {
          "base_uri": "https://localhost:8080/"
        },
        "id": "tCtpyTlywVQl",
        "outputId": "372eaf8e-6a7d-422b-821e-2c9057df65cd"
      },
      "execution_count": 6,
      "outputs": [
        {
          "output_type": "execute_result",
          "data": {
            "text/plain": [
              ":v     4\n",
              ":.     1\n",
              ":D     1\n",
              ":))    1\n",
              "Name: Text Tweet, dtype: int64"
            ]
          },
          "metadata": {},
          "execution_count": 6
        }
      ]
    },
    {
      "cell_type": "code",
      "source": [
        "#Check exclamation point\n",
        "df[\"Text Tweet\"].str.findall(\"\\w+!\").explode().value_counts()"
      ],
      "metadata": {
        "colab": {
          "base_uri": "https://localhost:8080/"
        },
        "id": "tRLnGT34wnmT",
        "outputId": "68c5083d-2136-4485-afc5-d1bfa516df9d"
      },
      "execution_count": 7,
      "outputs": [
        {
          "output_type": "execute_result",
          "data": {
            "text/plain": [
              "buang!           2\n",
              "mampus!          1\n",
              "dibaca!          1\n",
              "ini!             1\n",
              "susah!           1\n",
              "nya!             1\n",
              "Mantap!          1\n",
              "jancok!          1\n",
              "Tipu!            1\n",
              "gitu!            1\n",
              "ditingkatkan!    1\n",
              "sebelah!         1\n",
              "GRATIS!          1\n",
              "direspon!        1\n",
              "jelek!           1\n",
              "lho!             1\n",
              "mahal!           1\n",
              "Kenapa!          1\n",
              "App!             1\n",
              "BANGET!          1\n",
              "kota!            1\n",
              "yess!            1\n",
              "Name: Text Tweet, dtype: int64"
            ]
          },
          "metadata": {},
          "execution_count": 7
        }
      ]
    },
    {
      "cell_type": "markdown",
      "source": [
        "## Text Preprocessing"
      ],
      "metadata": {
        "id": "cBnt2LvXxWop"
      }
    },
    {
      "cell_type": "markdown",
      "source": [
        "### Text Cleaning"
      ],
      "metadata": {
        "id": "unmxXvj1xav9"
      }
    },
    {
      "cell_type": "markdown",
      "source": [
        "1. Change some marks to blank space\n",
        "2. Reduce some excessive spaces into a space\n",
        "3. Equate uppercase and lowercase letters\n",
        "4. Separate exclamation points"
      ],
      "metadata": {
        "id": "u2RbDV8FxdL4"
      }
    },
    {
      "cell_type": "code",
      "source": [
        "#restore some punctuations such as below\n",
        "string.punctuation"
      ],
      "metadata": {
        "colab": {
          "base_uri": "https://localhost:8080/",
          "height": 35
        },
        "id": "10jpka0kzOFs",
        "outputId": "be7b96ac-c828-48bc-d70e-bcef4e7ec95f"
      },
      "execution_count": 8,
      "outputs": [
        {
          "output_type": "execute_result",
          "data": {
            "text/plain": [
              "'!\"#$%&\\'()*+,-./:;<=>?@[\\\\]^_`{|}~'"
            ],
            "application/vnd.google.colaboratory.intrinsic+json": {
              "type": "string"
            }
          },
          "metadata": {},
          "execution_count": 8
        }
      ]
    },
    {
      "cell_type": "code",
      "source": [
        "#include some marks\n",
        "# \\. is (.)\n",
        "punctuations = re.sub(r\"[!<_>#:\\.]\",\"\", string.punctuation)\n",
        "\n",
        "def punct2wspace(text):\n",
        "  return re.sub(r\"[{}]+\".format(punctuations),\" \", text)\n",
        "\n",
        "def normalize_wspace(text):\n",
        "  return re.sub(r\"\\s+\", \" \", text)\n",
        "\n",
        "def casefolding(text):\n",
        "  return text.lower()\n",
        "\n",
        "#(\\w+)(!) means that there are two groups by using ()()\n",
        "def separate_punct(text):\n",
        "  return re.sub(r\"(\\w+)(!)\", r\"\\1 \\2\", text)"
      ],
      "metadata": {
        "id": "e73j0uTTxZkK"
      },
      "execution_count": 9,
      "outputs": []
    },
    {
      "cell_type": "code",
      "source": [
        "separate_punct(\"nabilah!\")"
      ],
      "metadata": {
        "colab": {
          "base_uri": "https://localhost:8080/",
          "height": 35
        },
        "id": "94qGYn08xG5W",
        "outputId": "8ee71fb4-04d5-4c91-fa8e-c54981516798"
      },
      "execution_count": 10,
      "outputs": [
        {
          "output_type": "execute_result",
          "data": {
            "text/plain": [
              "'nabilah !'"
            ],
            "application/vnd.google.colaboratory.intrinsic+json": {
              "type": "string"
            }
          },
          "metadata": {},
          "execution_count": 10
        }
      ]
    },
    {
      "cell_type": "markdown",
      "source": [
        "### Stemming"
      ],
      "metadata": {
        "id": "-XAhKtCCz-Sb"
      }
    },
    {
      "cell_type": "markdown",
      "source": [
        "Stemming is the removal of affixes in words. In Indonesian, the Literature library is used"
      ],
      "metadata": {
        "id": "1CHoxsUW0Bk6"
      }
    },
    {
      "cell_type": "code",
      "source": [
        "#Create Stemmer\n",
        "factory = StemmerFactory()\n",
        "stemmer = factory.create_stemmer()\n",
        "\n",
        "#Stemming Process Example\n",
        "sentence = \"Perekonomian Indonesia sedang dalam pertumbuhan yang membanggakan\"\n",
        "output = stemmer.stem(sentence)\n",
        "\n",
        "print(output)\n",
        "\n",
        "print(stemmer.stem(\"Mereka meniru-nirukannya\"))"
      ],
      "metadata": {
        "colab": {
          "base_uri": "https://localhost:8080/"
        },
        "id": "oHrcFcyj0AeA",
        "outputId": "16bbb19a-552e-4609-d183-4fb63b48afc1"
      },
      "execution_count": 11,
      "outputs": [
        {
          "output_type": "stream",
          "name": "stdout",
          "text": [
            "ekonomi indonesia sedang dalam tumbuh yang bangga\n",
            "mereka tiru\n"
          ]
        }
      ]
    },
    {
      "cell_type": "markdown",
      "source": [
        "### Preprocessing"
      ],
      "metadata": {
        "id": "UqPU7YGI1qL3"
      }
    },
    {
      "cell_type": "code",
      "source": [
        "def preprocess_text(text):\n",
        "  text = punct2wspace(text)\n",
        "  text = normalize_wspace(text)\n",
        "  text = casefolding(text)\n",
        "  text = separate_punct(text)\n",
        "  #stemmer isn't used because it can remove exclamation mark which is needed in this task\n",
        "  #text = stemmer.stem(text)\n",
        "  return text"
      ],
      "metadata": {
        "id": "JBXszlMm1s1s"
      },
      "execution_count": 12,
      "outputs": []
    },
    {
      "cell_type": "code",
      "source": [
        "#Example\n",
        "preprocess_text(\"hannaninabilah@gmail.com!\")"
      ],
      "metadata": {
        "colab": {
          "base_uri": "https://localhost:8080/",
          "height": 35
        },
        "id": "H_0Jp4rO2nj-",
        "outputId": "491bd10e-a6d3-420c-f1ba-37df343a4f87"
      },
      "execution_count": 13,
      "outputs": [
        {
          "output_type": "execute_result",
          "data": {
            "text/plain": [
              "'hannaninabilah gmail com !'"
            ],
            "application/vnd.google.colaboratory.intrinsic+json": {
              "type": "string"
            }
          },
          "metadata": {},
          "execution_count": 13
        }
      ]
    },
    {
      "cell_type": "code",
      "source": [
        "#Text Illustration of the cleaned data\n",
        "df[\"cleaned_text\"]=df[\"Text Tweet\"].apply(preprocess_text)\n",
        "df.head()"
      ],
      "metadata": {
        "colab": {
          "base_uri": "https://localhost:8080/",
          "height": 285
        },
        "id": "6nAi8vRX1AW5",
        "outputId": "8cfe7b93-ad08-4401-b393-3f48a360bc4a"
      },
      "execution_count": 14,
      "outputs": [
        {
          "output_type": "execute_result",
          "data": {
            "text/plain": [
              "   Id Sentiment  \\\n",
              "0   1  positive   \n",
              "1   2  positive   \n",
              "2   3  negative   \n",
              "3   4  negative   \n",
              "4   5  negative   \n",
              "\n",
              "                                                                                                                  Text Tweet  \\\n",
              "0                                       <USER_MENTION> #BOIKOT_<PROVIDER_NAME> Gunakan Produk Bangsa Sendiri <PROVIDER_NAME>   \n",
              "1                                                                      Saktinya balik lagi, alhamdulillah :v <PROVIDER_NAME>   \n",
              "2  Selamat pagi <PROVIDER_NAME>  bisa bantu kenapa di dalam kamar sinyal 4G hilang yang 1 lagi panggilan darurat saja  <URL>   \n",
              "3                                                 Dear <PROVIDER_NAME> akhir2 ini jaringan data lemot banget padahal H+ !!!!   \n",
              "4                                                                                    Selamat malam PENDUSTA <PROVIDER_NAME>    \n",
              "\n",
              "                                                                                                              cleaned_text  \n",
              "0                                     <user_mention> #boikot_<provider_name> gunakan produk bangsa sendiri <provider_name>  \n",
              "1                                                                     saktinya balik lagi alhamdulillah :v <provider_name>  \n",
              "2  selamat pagi <provider_name> bisa bantu kenapa di dalam kamar sinyal 4g hilang yang 1 lagi panggilan darurat saja <url>  \n",
              "3                                                dear <provider_name> akhir2 ini jaringan data lemot banget padahal h !!!!  \n",
              "4                                                                                  selamat malam pendusta <provider_name>   "
            ],
            "text/html": [
              "\n",
              "  <div id=\"df-cb1eebe7-e1a1-4658-b49d-049279f21d9e\">\n",
              "    <div class=\"colab-df-container\">\n",
              "      <div>\n",
              "<style scoped>\n",
              "    .dataframe tbody tr th:only-of-type {\n",
              "        vertical-align: middle;\n",
              "    }\n",
              "\n",
              "    .dataframe tbody tr th {\n",
              "        vertical-align: top;\n",
              "    }\n",
              "\n",
              "    .dataframe thead th {\n",
              "        text-align: right;\n",
              "    }\n",
              "</style>\n",
              "<table border=\"1\" class=\"dataframe\">\n",
              "  <thead>\n",
              "    <tr style=\"text-align: right;\">\n",
              "      <th></th>\n",
              "      <th>Id</th>\n",
              "      <th>Sentiment</th>\n",
              "      <th>Text Tweet</th>\n",
              "      <th>cleaned_text</th>\n",
              "    </tr>\n",
              "  </thead>\n",
              "  <tbody>\n",
              "    <tr>\n",
              "      <th>0</th>\n",
              "      <td>1</td>\n",
              "      <td>positive</td>\n",
              "      <td>&lt;USER_MENTION&gt; #BOIKOT_&lt;PROVIDER_NAME&gt; Gunakan Produk Bangsa Sendiri &lt;PROVIDER_NAME&gt;</td>\n",
              "      <td>&lt;user_mention&gt; #boikot_&lt;provider_name&gt; gunakan produk bangsa sendiri &lt;provider_name&gt;</td>\n",
              "    </tr>\n",
              "    <tr>\n",
              "      <th>1</th>\n",
              "      <td>2</td>\n",
              "      <td>positive</td>\n",
              "      <td>Saktinya balik lagi, alhamdulillah :v &lt;PROVIDER_NAME&gt;</td>\n",
              "      <td>saktinya balik lagi alhamdulillah :v &lt;provider_name&gt;</td>\n",
              "    </tr>\n",
              "    <tr>\n",
              "      <th>2</th>\n",
              "      <td>3</td>\n",
              "      <td>negative</td>\n",
              "      <td>Selamat pagi &lt;PROVIDER_NAME&gt;  bisa bantu kenapa di dalam kamar sinyal 4G hilang yang 1 lagi panggilan darurat saja  &lt;URL&gt;</td>\n",
              "      <td>selamat pagi &lt;provider_name&gt; bisa bantu kenapa di dalam kamar sinyal 4g hilang yang 1 lagi panggilan darurat saja &lt;url&gt;</td>\n",
              "    </tr>\n",
              "    <tr>\n",
              "      <th>3</th>\n",
              "      <td>4</td>\n",
              "      <td>negative</td>\n",
              "      <td>Dear &lt;PROVIDER_NAME&gt; akhir2 ini jaringan data lemot banget padahal H+ !!!!</td>\n",
              "      <td>dear &lt;provider_name&gt; akhir2 ini jaringan data lemot banget padahal h !!!!</td>\n",
              "    </tr>\n",
              "    <tr>\n",
              "      <th>4</th>\n",
              "      <td>5</td>\n",
              "      <td>negative</td>\n",
              "      <td>Selamat malam PENDUSTA &lt;PROVIDER_NAME&gt;</td>\n",
              "      <td>selamat malam pendusta &lt;provider_name&gt;</td>\n",
              "    </tr>\n",
              "  </tbody>\n",
              "</table>\n",
              "</div>\n",
              "      <button class=\"colab-df-convert\" onclick=\"convertToInteractive('df-cb1eebe7-e1a1-4658-b49d-049279f21d9e')\"\n",
              "              title=\"Convert this dataframe to an interactive table.\"\n",
              "              style=\"display:none;\">\n",
              "        \n",
              "  <svg xmlns=\"http://www.w3.org/2000/svg\" height=\"24px\"viewBox=\"0 0 24 24\"\n",
              "       width=\"24px\">\n",
              "    <path d=\"M0 0h24v24H0V0z\" fill=\"none\"/>\n",
              "    <path d=\"M18.56 5.44l.94 2.06.94-2.06 2.06-.94-2.06-.94-.94-2.06-.94 2.06-2.06.94zm-11 1L8.5 8.5l.94-2.06 2.06-.94-2.06-.94L8.5 2.5l-.94 2.06-2.06.94zm10 10l.94 2.06.94-2.06 2.06-.94-2.06-.94-.94-2.06-.94 2.06-2.06.94z\"/><path d=\"M17.41 7.96l-1.37-1.37c-.4-.4-.92-.59-1.43-.59-.52 0-1.04.2-1.43.59L10.3 9.45l-7.72 7.72c-.78.78-.78 2.05 0 2.83L4 21.41c.39.39.9.59 1.41.59.51 0 1.02-.2 1.41-.59l7.78-7.78 2.81-2.81c.8-.78.8-2.07 0-2.86zM5.41 20L4 18.59l7.72-7.72 1.47 1.35L5.41 20z\"/>\n",
              "  </svg>\n",
              "      </button>\n",
              "      \n",
              "  <style>\n",
              "    .colab-df-container {\n",
              "      display:flex;\n",
              "      flex-wrap:wrap;\n",
              "      gap: 12px;\n",
              "    }\n",
              "\n",
              "    .colab-df-convert {\n",
              "      background-color: #E8F0FE;\n",
              "      border: none;\n",
              "      border-radius: 50%;\n",
              "      cursor: pointer;\n",
              "      display: none;\n",
              "      fill: #1967D2;\n",
              "      height: 32px;\n",
              "      padding: 0 0 0 0;\n",
              "      width: 32px;\n",
              "    }\n",
              "\n",
              "    .colab-df-convert:hover {\n",
              "      background-color: #E2EBFA;\n",
              "      box-shadow: 0px 1px 2px rgba(60, 64, 67, 0.3), 0px 1px 3px 1px rgba(60, 64, 67, 0.15);\n",
              "      fill: #174EA6;\n",
              "    }\n",
              "\n",
              "    [theme=dark] .colab-df-convert {\n",
              "      background-color: #3B4455;\n",
              "      fill: #D2E3FC;\n",
              "    }\n",
              "\n",
              "    [theme=dark] .colab-df-convert:hover {\n",
              "      background-color: #434B5C;\n",
              "      box-shadow: 0px 1px 3px 1px rgba(0, 0, 0, 0.15);\n",
              "      filter: drop-shadow(0px 1px 2px rgba(0, 0, 0, 0.3));\n",
              "      fill: #FFFFFF;\n",
              "    }\n",
              "  </style>\n",
              "\n",
              "      <script>\n",
              "        const buttonEl =\n",
              "          document.querySelector('#df-cb1eebe7-e1a1-4658-b49d-049279f21d9e button.colab-df-convert');\n",
              "        buttonEl.style.display =\n",
              "          google.colab.kernel.accessAllowed ? 'block' : 'none';\n",
              "\n",
              "        async function convertToInteractive(key) {\n",
              "          const element = document.querySelector('#df-cb1eebe7-e1a1-4658-b49d-049279f21d9e');\n",
              "          const dataTable =\n",
              "            await google.colab.kernel.invokeFunction('convertToInteractive',\n",
              "                                                     [key], {});\n",
              "          if (!dataTable) return;\n",
              "\n",
              "          const docLinkHtml = 'Like what you see? Visit the ' +\n",
              "            '<a target=\"_blank\" href=https://colab.research.google.com/notebooks/data_table.ipynb>data table notebook</a>'\n",
              "            + ' to learn more about interactive tables.';\n",
              "          element.innerHTML = '';\n",
              "          dataTable['output_type'] = 'display_data';\n",
              "          await google.colab.output.renderOutput(dataTable, element);\n",
              "          const docLink = document.createElement('div');\n",
              "          docLink.innerHTML = docLinkHtml;\n",
              "          element.appendChild(docLink);\n",
              "        }\n",
              "      </script>\n",
              "    </div>\n",
              "  </div>\n",
              "  "
            ]
          },
          "metadata": {},
          "execution_count": 14
        }
      ]
    },
    {
      "cell_type": "markdown",
      "source": [
        "## Feature Extractions\n"
      ],
      "metadata": {
        "id": "5qGqM2Jq3N5X"
      }
    },
    {
      "cell_type": "markdown",
      "source": [
        "### Convert Text to Vector"
      ],
      "metadata": {
        "id": "eCKHqhWG3Tth"
      }
    },
    {
      "cell_type": "markdown",
      "source": [
        "Count Vector provides a vector containing the number of words in each sentence. The drawback is that word order is not taken into account so that it may lead to bias."
      ],
      "metadata": {
        "id": "O9WkUS8s3sQM"
      }
    },
    {
      "cell_type": "code",
      "source": [
        "count_vect = CountVectorizer(max_features=10_000, ngram_range=(1,2))\n",
        "count_repr = count_vect.fit_transform(df[\"cleaned_text\"])\n",
        "count_repr"
      ],
      "metadata": {
        "colab": {
          "base_uri": "https://localhost:8080/"
        },
        "id": "0RyzzDD83Rl9",
        "outputId": "694ede2a-0b3c-4209-8315-86e324e97aca"
      },
      "execution_count": 15,
      "outputs": [
        {
          "output_type": "execute_result",
          "data": {
            "text/plain": [
              "<300x3466 sparse matrix of type '<class 'numpy.int64'>'\n",
              "\twith 6228 stored elements in Compressed Sparse Row format>"
            ]
          },
          "metadata": {},
          "execution_count": 15
        }
      ]
    },
    {
      "cell_type": "code",
      "source": [
        "count_vect.vocabulary_"
      ],
      "metadata": {
        "colab": {
          "base_uri": "https://localhost:8080/"
        },
        "id": "jWYJqZt14T9y",
        "outputId": "63e89940-cd2a-4c16-99a5-8583b111ef1c"
      },
      "execution_count": 16,
      "outputs": [
        {
          "output_type": "execute_result",
          "data": {
            "text/plain": [
              "{'user_mention': 3332,\n",
              " 'boikot_': 497,\n",
              " 'provider_name': 2396,\n",
              " 'gunakan': 1022,\n",
              " 'produk': 2379,\n",
              " 'bangsa': 317,\n",
              " 'sendiri': 2860,\n",
              " 'user_mention boikot_': 3335,\n",
              " 'boikot_ provider_name': 498,\n",
              " 'provider_name gunakan': 2460,\n",
              " 'gunakan produk': 1023,\n",
              " 'produk bangsa': 2380,\n",
              " 'bangsa sendiri': 318,\n",
              " 'sendiri provider_name': 2861,\n",
              " 'saktinya': 2683,\n",
              " 'balik': 299,\n",
              " 'lagi': 1621,\n",
              " 'alhamdulillah': 184,\n",
              " 'saktinya balik': 2684,\n",
              " 'balik lagi': 300,\n",
              " 'lagi alhamdulillah': 1622,\n",
              " 'alhamdulillah provider_name': 191,\n",
              " 'selamat': 2826,\n",
              " 'pagi': 2181,\n",
              " 'bisa': 467,\n",
              " 'bantu': 327,\n",
              " 'kenapa': 1475,\n",
              " 'di': 756,\n",
              " 'dalam': 639,\n",
              " 'kamar': 1360,\n",
              " 'sinyal': 2942,\n",
              " '4g': 65,\n",
              " 'hilang': 1098,\n",
              " 'yang': 3398,\n",
              " 'panggilan': 2231,\n",
              " 'darurat': 704,\n",
              " 'saja': 2674,\n",
              " 'url': 3320,\n",
              " 'selamat pagi': 2829,\n",
              " 'pagi provider_name': 2184,\n",
              " 'provider_name bisa': 2428,\n",
              " 'bisa bantu': 469,\n",
              " 'bantu kenapa': 328,\n",
              " 'kenapa di': 1476,\n",
              " 'di dalam': 764,\n",
              " 'dalam kamar': 642,\n",
              " 'kamar sinyal': 1361,\n",
              " 'sinyal 4g': 2943,\n",
              " '4g hilang': 70,\n",
              " 'hilang yang': 1103,\n",
              " 'yang lagi': 3414,\n",
              " 'lagi panggilan': 1630,\n",
              " 'panggilan darurat': 2232,\n",
              " 'darurat saja': 705,\n",
              " 'saja url': 2682,\n",
              " 'dear': 725,\n",
              " 'akhir2': 164,\n",
              " 'ini': 1142,\n",
              " 'jaringan': 1258,\n",
              " 'data': 706,\n",
              " 'lemot': 1708,\n",
              " 'banget': 303,\n",
              " 'padahal': 2174,\n",
              " 'dear provider_name': 726,\n",
              " 'provider_name akhir2': 2407,\n",
              " 'akhir2 ini': 165,\n",
              " 'ini jaringan': 1148,\n",
              " 'jaringan data': 1261,\n",
              " 'data lemot': 711,\n",
              " 'lemot banget': 1709,\n",
              " 'banget padahal': 309,\n",
              " 'malam': 1810,\n",
              " 'pendusta': 2280,\n",
              " 'selamat malam': 2828,\n",
              " 'malam pendusta': 1814,\n",
              " 'pendusta provider_name': 2281,\n",
              " 'untuk': 3299,\n",
              " 'penembakan': 2282,\n",
              " 'paket': 2204,\n",
              " 'dari': 685,\n",
              " 'product_name': 2362,\n",
              " 'masih': 1854,\n",
              " 'gangguan': 964,\n",
              " 'ya': 3386,\n",
              " 'untuk penembakan': 3305,\n",
              " 'penembakan paket': 2283,\n",
              " 'paket dari': 2206,\n",
              " 'dari product_name': 693,\n",
              " 'product_name masih': 2369,\n",
              " 'masih gangguan': 1860,\n",
              " 'gangguan ya': 969,\n",
              " 'ya provider_name': 3391,\n",
              " 'aku': 178,\n",
              " 'pakai': 2189,\n",
              " 'nya': 2125,\n",
              " 'udah': 3278,\n",
              " 'off': 2144,\n",
              " 'tapi': 3093,\n",
              " 'gantinya': 975,\n",
              " 'ada': 109,\n",
              " 'yg': 3436,\n",
              " 'gratisan': 1010,\n",
              " 'youtube': 3447,\n",
              " 'senang': 2857,\n",
              " 'provider_name aku': 2409,\n",
              " 'aku pakai': 180,\n",
              " 'pakai provider_name': 2196,\n",
              " 'provider_name paket': 2526,\n",
              " 'paket product_name': 2210,\n",
              " 'product_name nya': 2372,\n",
              " 'nya udah': 2132,\n",
              " 'udah off': 3284,\n",
              " 'off tapi': 2145,\n",
              " 'tapi gantinya': 3098,\n",
              " 'gantinya ada': 976,\n",
              " 'ada paket': 125,\n",
              " 'product_name yg': 2378,\n",
              " 'yg bisa': 3438,\n",
              " 'bisa gratisan': 477,\n",
              " 'gratisan youtube': 1013,\n",
              " 'youtube senang': 3457,\n",
              " 'senang banget': 2858,\n",
              " 'banget provider_name': 313,\n",
              " 'rt': 2647,\n",
              " 'tak': 3080,\n",
              " 'kamus': 1375,\n",
              " 'perhapean': 2311,\n",
              " 'saya': 2730,\n",
              " 'boikot': 494,\n",
              " 'rt user_mention': 2648,\n",
              " 'user_mention provider_name': 3339,\n",
              " 'provider_name tak': 2557,\n",
              " 'tak ada': 3081,\n",
              " 'ada lagi': 121,\n",
              " 'lagi dalam': 1626,\n",
              " 'dalam kamus': 643,\n",
              " 'kamus perhapean': 1376,\n",
              " 'perhapean saya': 2312,\n",
              " 'saya boikot': 2735,\n",
              " 'boikot provider_name': 495,\n",
              " 'provider_name url': 2572,\n",
              " 'keluhan': 1469,\n",
              " 'gak': 942,\n",
              " 'ditanggapi': 869,\n",
              " 'bikin': 452,\n",
              " 'emosi': 900,\n",
              " 'aja': 143,\n",
              " 'pulsaku': 2606,\n",
              " 'dicuri': 814,\n",
              " 'terus': 3185,\n",
              " 'soak': 2983,\n",
              " 'deh': 727,\n",
              " 'masa': 1842,\n",
              " 'setiap': 2899,\n",
              " 'hari': 1058,\n",
              " 'pulsa': 2593,\n",
              " 'berkurang': 424,\n",
              " '1500': 13,\n",
              " '2100': 29,\n",
              " 'keluhan gak': 1470,\n",
              " 'gak ditanggapi': 951,\n",
              " 'ditanggapi bikin': 870,\n",
              " 'bikin emosi': 455,\n",
              " 'emosi aja': 901,\n",
              " 'aja pulsaku': 149,\n",
              " 'pulsaku dicuri': 2607,\n",
              " 'dicuri terus': 815,\n",
              " 'terus soak': 3190,\n",
              " 'soak deh': 2984,\n",
              " 'deh masa': 728,\n",
              " 'masa setiap': 1846,\n",
              " 'setiap hari': 2900,\n",
              " 'hari pulsa': 1068,\n",
              " 'pulsa berkurang': 2598,\n",
              " 'berkurang 1500': 425,\n",
              " '1500 2100': 14,\n",
              " '2100 bisa': 30,\n",
              " 'bisa hari': 478,\n",
              " 'bilboard': 463,\n",
              " 'iklan': 1129,\n",
              " 'kok': 1527,\n",
              " 'pesan': 2327,\n",
              " 'tersembunyi': 3183,\n",
              " 'ramadhan': 2617,\n",
              " 'bilboard iklan': 464,\n",
              " 'iklan provider_name': 1130,\n",
              " 'provider_name kok': 2489,\n",
              " 'kok ada': 1528,\n",
              " 'ada pesan': 127,\n",
              " 'pesan tersembunyi': 2332,\n",
              " 'tersembunyi boikot': 3184,\n",
              " 'provider_name ramadhan': 2540,\n",
              " 'ramadhan url': 2619,\n",
              " 'mampus': 1822,\n",
              " 'bulan': 542,\n",
              " 'puasa': 2585,\n",
              " 'subuh2': 3020,\n",
              " 'mau': 1875,\n",
              " 'sahur': 2670,\n",
              " 'cek': 569,\n",
              " 'tersedot': 3181,\n",
              " 'dan': 645,\n",
              " 'sekarang': 2802,\n",
              " 'sisa': 2972,\n",
              " '30': 42,\n",
              " 'ribu': 2640,\n",
              " 'tolong': 3241,\n",
              " 'dibaca': 794,\n",
              " 'provider_name mampus': 2503,\n",
              " 'mampus bulan': 1823,\n",
              " 'bulan puasa': 544,\n",
              " 'puasa subuh2': 2588,\n",
              " 'subuh2 mau': 3021,\n",
              " 'mau sahur': 1882,\n",
              " 'sahur cek': 2672,\n",
              " 'cek pulsa': 570,\n",
              " 'pulsa tersedot': 2603,\n",
              " 'tersedot terus': 3182,\n",
              " 'terus dan': 3187,\n",
              " 'dan sekarang': 663,\n",
              " 'sekarang sisa': 2808,\n",
              " 'sisa 30': 2973,\n",
              " '30 ribu': 43,\n",
              " 'ribu provider_name': 2643,\n",
              " 'provider_name tolong': 2568,\n",
              " 'tolong dibaca': 3243,\n",
              " 'pernah': 2318,\n",
              " 'coba': 592,\n",
              " 'parah': 2240,\n",
              " 'koneksinya': 1553,\n",
              " 'user_mention pernah': 3338,\n",
              " 'pernah coba': 2319,\n",
              " 'coba pakai': 594,\n",
              " 'provider_name tapi': 2558,\n",
              " 'tapi parah': 3106,\n",
              " 'parah koneksinya': 2244,\n",
              " 'setuju': 2906,\n",
              " 'silahkan': 2928,\n",
              " 'pelanggan': 2265,\n",
              " 'pendukung': 2277,\n",
              " 'hrs': 1120,\n",
              " 'setuju user_mention': 2907,\n",
              " 'user_mention silahkan': 3340,\n",
              " 'silahkan boikot': 2929,\n",
              " 'boikot saja': 496,\n",
              " 'saja pelanggan': 2678,\n",
              " 'pelanggan provider_name': 2268,\n",
              " 'provider_name pendukung': 2530,\n",
              " 'pendukung hrs': 2278,\n",
              " 'hrs url': 1121,\n",
              " 'dibela': 802,\n",
              " 'belain': 370,\n",
              " 'daftarin': 637,\n",
              " 'kartu': 1396,\n",
              " 'tunggu': 3270,\n",
              " 'sejam': 2794,\n",
              " 'siang2': 2915,\n",
              " 'sambil': 2697,\n",
              " 'sampai': 2704,\n",
              " 'rumah': 2655,\n",
              " '4gnya': 88,\n",
              " 'adanya': 137,\n",
              " 'kota': 1562,\n",
              " 'dibela belain': 803,\n",
              " 'belain daftarin': 371,\n",
              " 'daftarin kartu': 638,\n",
              " 'kartu 4g': 1397,\n",
              " '4g tunggu': 82,\n",
              " 'tunggu sejam': 3271,\n",
              " 'sejam siang2': 2795,\n",
              " 'siang2 sambil': 2916,\n",
              " 'sambil puasa': 2701,\n",
              " 'puasa sampai': 2587,\n",
              " 'sampai rumah': 2707,\n",
              " 'rumah sinyal': 2656,\n",
              " 'sinyal 4gnya': 2944,\n",
              " '4gnya gak': 90,\n",
              " 'gak ada': 943,\n",
              " 'ada adanya': 111,\n",
              " 'adanya di': 138,\n",
              " 'di kota': 768,\n",
              " 'kota provider_name': 1568,\n",
              " 'datanya': 719,\n",
              " 'sering': 2870,\n",
              " 'provider_name datanya': 2444,\n",
              " 'datanya kok': 720,\n",
              " 'kok sering': 1536,\n",
              " 'sering hilang': 2871,\n",
              " 'hilang provider_name': 1101,\n",
              " 'internetlelet': 1187,\n",
              " 'ga': 934,\n",
              " 'sesuai': 2881,\n",
              " 'internetlelet provider_name': 1188,\n",
              " 'provider_name ga': 2453,\n",
              " 'ga sesuai': 939,\n",
              " 'sesuai iklan': 2882,\n",
              " 'kangen': 1377,\n",
              " 'nih': 2096,\n",
              " 'dapat': 668,\n",
              " 'kiriman': 1518,\n",
              " 'pos': 2355,\n",
              " 'marchandes': 1838,\n",
              " 'langsung': 1673,\n",
              " 'pak': 2187,\n",
              " 'provider_name provider_name': 2537,\n",
              " 'provider_name kangen': 2482,\n",
              " 'kangen nih': 1378,\n",
              " 'nih dapat': 2098,\n",
              " 'dapat kiriman': 675,\n",
              " 'kiriman pos': 1520,\n",
              " 'pos marchandes': 2356,\n",
              " 'marchandes nya': 1839,\n",
              " 'nya provider_name': 2128,\n",
              " 'provider_name langsung': 2496,\n",
              " 'langsung dari': 1674,\n",
              " 'dari pak': 692,\n",
              " 'pak pos': 2188,\n",
              " 'pos nya': 2357,\n",
              " 'katanya': 1412,\n",
              " '150mbps': 15,\n",
              " 'kecepatanya': 1451,\n",
              " 'cuma': 616,\n",
              " '3kbps': 61,\n",
              " 'kuota': 1591,\n",
              " 'full': 929,\n",
              " 'buka': 530,\n",
              " 'google': 993,\n",
              " 'nguras': 2094,\n",
              " 'uang': 3276,\n",
              " 'baterai': 355,\n",
              " 'yang katanya': 3411,\n",
              " 'katanya 150mbps': 1413,\n",
              " '150mbps kecepatanya': 16,\n",
              " 'kecepatanya cuma': 1452,\n",
              " 'cuma 3kbps': 617,\n",
              " '3kbps kuota': 62,\n",
              " 'kuota full': 1598,\n",
              " 'full ga': 931,\n",
              " 'ga bisa': 935,\n",
              " 'bisa buka': 470,\n",
              " 'buka google': 532,\n",
              " 'google udah': 994,\n",
              " 'udah bikin': 3280,\n",
              " 'bikin nguras': 460,\n",
              " 'nguras uang': 2095,\n",
              " 'uang dan': 3277,\n",
              " 'dan baterai': 648,\n",
              " 'baterai url': 356,\n",
              " 'internet': 1168,\n",
              " 'banyak': 331,\n",
              " 'koneksi': 1547,\n",
              " 'internetnya': 1189,\n",
              " 'lambat': 1655,\n",
              " 'lte': 1739,\n",
              " 'kuota internet': 1601,\n",
              " 'internet provider_name': 1177,\n",
              " 'provider_name masih': 2510,\n",
              " 'masih banyak': 1857,\n",
              " 'banyak tapi': 341,\n",
              " 'tapi koneksi': 3103,\n",
              " 'koneksi internetnya': 1550,\n",
              " 'internetnya lambat': 1190,\n",
              " 'lambat banget': 1656,\n",
              " 'banget product_name': 312,\n",
              " 'product_name provider_name': 2375,\n",
              " 'provider_name 4g': 2399,\n",
              " '4g lte': 74,\n",
              " 'lte url': 1741,\n",
              " 'ampun': 204,\n",
              " 'seperti': 2864,\n",
              " 'siput': 2970,\n",
              " 'acara': 105,\n",
              " 'live': 1727,\n",
              " 'streaming': 3007,\n",
              " 'jadi': 1220,\n",
              " 'terganggu': 3153,\n",
              " 'mundur': 2040,\n",
              " 'ampun sinyal': 205,\n",
              " '4g provider_name': 76,\n",
              " 'provider_name lemot': 2499,\n",
              " 'lemot seperti': 1716,\n",
              " 'seperti siput': 2868,\n",
              " 'siput acara': 2971,\n",
              " 'acara live': 106,\n",
              " 'live streaming': 1728,\n",
              " 'streaming jadi': 3009,\n",
              " 'jadi terganggu': 1233,\n",
              " 'terganggu mundur': 3154,\n",
              " 'mundur terus': 2041,\n",
              " 'terus provider_name': 3188,\n",
              " 'nabire': 2062,\n",
              " 'bagus': 282,\n",
              " 'itu': 1210,\n",
              " 'hanya': 1049,\n",
              " 'berita': 416,\n",
              " 'hoax': 1104,\n",
              " 'jaringan provider_name': 1269,\n",
              " 'provider_name di': 2445,\n",
              " 'di nabire': 772,\n",
              " 'nabire bagus': 2063,\n",
              " 'bagus itu': 284,\n",
              " 'itu hanya': 1212,\n",
              " 'hanya berita': 1050,\n",
              " 'berita hoax': 417,\n",
              " 'hoax hoax': 1105,\n",
              " 'hoax provider_name': 1106,\n",
              " 'makin': 1789,\n",
              " 'jelek': 1296,\n",
              " 'takalar': 3082,\n",
              " 'makin jelek': 1794,\n",
              " 'jelek jaringan': 1298,\n",
              " 'jaringan di': 1262,\n",
              " 'di takalar': 785,\n",
              " 'takalar provider_name': 3083,\n",
              " 'stabil': 3000,\n",
              " 'disini': 862,\n",
              " 'jadi stabil': 1231,\n",
              " 'stabil disini': 3001,\n",
              " 'disini provider_name': 865,\n",
              " 'cug': 608,\n",
              " 'community': 600,\n",
              " 'sangat': 2712,\n",
              " 'cocok': 596,\n",
              " 'buat': 519,\n",
              " 'komunikasi': 1543,\n",
              " 'antar': 219,\n",
              " 'keluarga': 1466,\n",
              " 'rekan': 2632,\n",
              " 'bisnis': 490,\n",
              " 'kerja': 1507,\n",
              " 'sekolah': 2811,\n",
              " 'kampus': 1367,\n",
              " 'hubungan': 1124,\n",
              " 'jarak': 1253,\n",
              " 'cug provider_name': 609,\n",
              " 'provider_name community': 2436,\n",
              " 'community sangat': 601,\n",
              " 'sangat cocok': 2715,\n",
              " 'cocok buat': 597,\n",
              " 'buat komunikasi': 526,\n",
              " 'komunikasi antar': 1544,\n",
              " 'antar keluarga': 220,\n",
              " 'keluarga rekan': 1467,\n",
              " 'rekan bisnis': 2633,\n",
              " 'bisnis kerja': 491,\n",
              " 'kerja sekolah': 1510,\n",
              " 'sekolah kampus': 2812,\n",
              " 'kampus hubungan': 1368,\n",
              " 'hubungan jarak': 1125,\n",
              " 'kualitas': 1580,\n",
              " 'provider': 2392,\n",
              " 'trouble': 3253,\n",
              " 'mahal': 1758,\n",
              " 'berhari2': 410,\n",
              " 'useless4g': 3330,\n",
              " 'provider_name ini': 2469,\n",
              " 'ini kualitas': 1152,\n",
              " 'kualitas provider': 1583,\n",
              " 'provider provider_name': 2394,\n",
              " 'provider_name gangguan': 2455,\n",
              " 'gangguan trouble': 968,\n",
              " 'trouble mahal': 3254,\n",
              " 'mahal berhari2': 1760,\n",
              " 'berhari2 useless4g': 411,\n",
              " 'useless4g url': 3331,\n",
              " 'sinyalnya': 2962,\n",
              " 'tai': 3078,\n",
              " 'provider_name product_name': 2535,\n",
              " 'product_name sinyalnya': 2376,\n",
              " 'sinyalnya tai': 2969,\n",
              " 'sumba': 3049,\n",
              " 'timur': 3226,\n",
              " 'jaringan internet': 1263,\n",
              " 'di sumba': 782,\n",
              " 'sumba timur': 3050,\n",
              " 'timur parah': 3227,\n",
              " 'dengan': 730,\n",
              " 'ajaib': 155,\n",
              " 'usage': 3328,\n",
              " 'diberikan': 804,\n",
              " 'bahkan': 291,\n",
              " 'bukti': 540,\n",
              " 'penggunaan': 2288,\n",
              " 'tidak': 3212,\n",
              " 'melebihi': 1895,\n",
              " 'batas': 353,\n",
              " 'dengan ajaib': 731,\n",
              " 'ajaib kuota': 156,\n",
              " 'kuota hilang': 1600,\n",
              " 'hilang usage': 1102,\n",
              " 'usage diberikan': 3329,\n",
              " 'diberikan bahkan': 805,\n",
              " 'bahkan bukti': 292,\n",
              " 'bukti penggunaan': 541,\n",
              " 'penggunaan tidak': 2289,\n",
              " 'tidak melebihi': 3221,\n",
              " 'melebihi batas': 1896,\n",
              " 'batas url': 354,\n",
              " 'bertahun': 435,\n",
              " 'tahun': 3075,\n",
              " 'aktif': 173,\n",
              " '2018': 27,\n",
              " 'karena': 1382,\n",
              " 'seringnya': 2874,\n",
              " 'bayar': 357,\n",
              " 'pelayanan': 2271,\n",
              " 'memuaskan': 1932,\n",
              " 'bertahun tahun': 436,\n",
              " 'tahun pakai': 3077,\n",
              " 'provider_name masa': 2507,\n",
              " 'masa aktif': 1843,\n",
              " 'aktif sampai': 175,\n",
              " 'sampai 2018': 2705,\n",
              " '2018 karena': 28,\n",
              " 'karena seringnya': 1393,\n",
              " 'seringnya bayar': 2875,\n",
              " 'bayar untuk': 360,\n",
              " 'untuk dapat': 3301,\n",
              " 'dapat pelayanan': 679,\n",
              " 'pelayanan yang': 2273,\n",
              " 'yang memuaskan': 3420,\n",
              " 'cepat': 574,\n",
              " 'habis': 1024,\n",
              " 'cepat banget': 576,\n",
              " 'banget data': 306,\n",
              " 'data provider_name': 714,\n",
              " 'provider_name habis': 2461,\n",
              " 'habis url': 1031,\n",
              " 'apa': 223,\n",
              " 'kurang': 1618,\n",
              " 'tolol': 3239,\n",
              " 'namanya': 2066,\n",
              " 'urusan': 3325,\n",
              " 'sama': 2685,\n",
              " 'semua': 2849,\n",
              " 'chat': 580,\n",
              " 'app': 238,\n",
              " 'user_mention apa': 3333,\n",
              " 'apa gak': 225,\n",
              " 'gak kurang': 953,\n",
              " 'kurang tolol': 1620,\n",
              " 'tolol namanya': 3240,\n",
              " 'namanya provider_name': 2067,\n",
              " 'provider_name provider': 2536,\n",
              " 'provider gak': 2393,\n",
              " 'ada urusan': 133,\n",
              " 'urusan sama': 3327,\n",
              " 'sama semua': 2696,\n",
              " 'semua chat': 2850,\n",
              " 'chat app': 581,\n",
              " 'mungkin': 2042,\n",
              " 'benar': 385,\n",
              " 'berarti': 395,\n",
              " 'tinggal': 3230,\n",
              " 'whatsappnotsave': 3372,\n",
              " 'mungkin provider_name': 2045,\n",
              " 'provider_name benar': 2423,\n",
              " 'benar berarti': 386,\n",
              " 'berarti tinggal': 396,\n",
              " 'tinggal whatsappnotsave': 3232,\n",
              " 'whatsappnotsave url': 3373,\n",
              " 'hore': 1114,\n",
              " 'akhirnya': 166,\n",
              " 'sambu': 2703,\n",
              " 'hore akhirnya': 1115,\n",
              " 'akhirnya ada': 167,\n",
              " 'ada sinyal': 129,\n",
              " 'di sambu': 778,\n",
              " 'alhamdulilah': 182,\n",
              " 'dikunjungi': 840,\n",
              " 'para': 2237,\n",
              " 'vendor': 3346,\n",
              " 'mitra': 2014,\n",
              " 'ke': 1423,\n",
              " 'klinikkumsda': 1525,\n",
              " 'alhamdulilah dikunjungi': 183,\n",
              " 'dikunjungi para': 841,\n",
              " 'para vendor': 2239,\n",
              " 'vendor mitra': 3347,\n",
              " 'mitra provider_name': 2015,\n",
              " 'provider_name ke': 2486,\n",
              " 'ke klinikkumsda': 1429,\n",
              " 'klinikkumsda url': 1526,\n",
              " 'terlambat': 3170,\n",
              " 'ikut': 1132,\n",
              " 'jelaslah': 1294,\n",
              " 'terlambat ikut': 3171,\n",
              " 'ikut product_name': 1134,\n",
              " 'product_name jelaslah': 2365,\n",
              " 'jelaslah jaringan': 1295,\n",
              " 'tega': 3123,\n",
              " 'menyampaikan': 1981,\n",
              " 'suka': 3046,\n",
              " 'telat': 3127,\n",
              " 'baper': 343,\n",
              " 'provider_name tega': 2560,\n",
              " 'tega menyampaikan': 3124,\n",
              " 'menyampaikan pesan': 1982,\n",
              " 'pesan kok': 2328,\n",
              " 'kok suka': 1537,\n",
              " 'suka telat': 3047,\n",
              " 'telat bikin': 3128,\n",
              " 'bikin baper': 453,\n",
              " 'kecepatan': 1444,\n",
              " '2g': 37,\n",
              " 'jaringan 4g': 1260,\n",
              " '4g kecepatan': 72,\n",
              " 'kecepatan 2g': 1445,\n",
              " '2g provider_name': 38,\n",
              " 'extra': 905,\n",
              " 'combo': 598,\n",
              " 'paket extra': 2208,\n",
              " 'extra combo': 906,\n",
              " 'combo kok': 599,\n",
              " 'kok lemot': 1532,\n",
              " 'lemot ya': 1717,\n",
              " 'facebook': 907,\n",
              " 'kenapa masa': 1481,\n",
              " 'masa buka': 1844,\n",
              " 'buka facebook': 531,\n",
              " 'facebook aja': 908,\n",
              " 'aja gak': 146,\n",
              " 'gak bisa': 947,\n",
              " 'bisa provider_name': 488,\n",
              " 'rugi': 2649,\n",
              " 'isi': 1200,\n",
              " 'jaringannya': 1273,\n",
              " 'busuk': 555,\n",
              " 'dirugikan': 858,\n",
              " 'rugi isi': 2650,\n",
              " 'isi kuota': 1201,\n",
              " 'kuota provider_name': 1607,\n",
              " 'provider_name jaringannya': 2476,\n",
              " 'jaringannya busuk': 1275,\n",
              " 'busuk banget': 556,\n",
              " 'banget dirugikan': 307,\n",
              " 'solidaritas': 2987,\n",
              " 'perlu': 2313,\n",
              " 'perasaan': 2302,\n",
              " 'lebih': 1690,\n",
              " 'penting': 2292,\n",
              " 'ngomong': 2090,\n",
              " 'dong': 881,\n",
              " 'solidaritas perlu': 2989,\n",
              " 'perlu tapi': 2315,\n",
              " 'tapi perasaan': 3107,\n",
              " 'perasaan lebih': 2303,\n",
              " 'lebih penting': 1699,\n",
              " 'penting lagi': 2293,\n",
              " 'lagi dari': 1627,\n",
              " 'dari solidaritas': 697,\n",
              " 'solidaritas ngomong': 2988,\n",
              " 'ngomong dong': 2091,\n",
              " 'dong provider_name': 883,\n",
              " '1berbagi': 17,\n",
              " 'tanpa': 3088,\n",
              " 'berbagai': 397,\n",
              " 'kapan': 1379,\n",
              " 'bagi': 277,\n",
              " 'berkah': 418,\n",
              " 'provider_name 1berbagi': 2397,\n",
              " '1berbagi tanpa': 18,\n",
              " 'tanpa kuota': 3089,\n",
              " 'kuota berbagai': 1595,\n",
              " 'berbagai kapan': 398,\n",
              " 'kapan saja': 1381,\n",
              " 'saja provider_name': 2679,\n",
              " 'provider_name bagi': 2416,\n",
              " 'bagi berkah': 278,\n",
              " 'berkah user_mention': 420,\n",
              " '1video': 21,\n",
              " 'ngabuburit': 2084,\n",
              " 'anak': 210,\n",
              " 'video': 3348,\n",
              " 'bersama': 433,\n",
              " 'baju': 297,\n",
              " 'koko': 1538,\n",
              " 'baru': 344,\n",
              " 'berkah 1video': 419,\n",
              " '1video ngabuburit': 22,\n",
              " 'ngabuburit dengan': 2085,\n",
              " 'dengan anak': 732,\n",
              " 'anak video': 213,\n",
              " 'video sahur': 3352,\n",
              " 'sahur bersama': 2671,\n",
              " 'bersama keluarga': 434,\n",
              " 'keluarga video': 1468,\n",
              " 'video pakai': 3351,\n",
              " 'pakai baju': 2190,\n",
              " 'baju koko': 298,\n",
              " 'koko baru': 1539,\n",
              " 'baru user_mention': 352,\n",
              " 'daerah': 630,\n",
              " 'sawojajar': 2728,\n",
              " 'malang': 1816,\n",
              " 'seminggu': 2843,\n",
              " 'kah': 1341,\n",
              " 'care': 565,\n",
              " 'koneksi provider_name': 1552,\n",
              " 'di daerah': 762,\n",
              " 'daerah sawojajar': 634,\n",
              " 'sawojajar kota': 2729,\n",
              " 'kota malang': 1566,\n",
              " 'malang seminggu': 1817,\n",
              " 'seminggu ini': 2844,\n",
              " 'ini lemot': 1153,\n",
              " 'lemot parah': 1714,\n",
              " 'parah lagi': 2245,\n",
              " 'lagi gangguan': 1628,\n",
              " 'gangguan kah': 967,\n",
              " 'kah provider_name': 1342,\n",
              " 'provider_name care': 2435,\n",
              " 'care provider_name': 566,\n",
              " 'meski': 2002,\n",
              " 'greget': 1014,\n",
              " 'hal': 1037,\n",
              " 'network': 2082,\n",
              " 'and': 214,\n",
              " 'speed': 2996,\n",
              " 'setidaknya': 2902,\n",
              " 'irit': 1197,\n",
              " 'kere': 1501,\n",
              " 'saya pakai': 2748,\n",
              " 'provider_name meski': 2515,\n",
              " 'meski provider_name': 2004,\n",
              " 'provider_name lebih': 2497,\n",
              " 'lebih greget': 1695,\n",
              " 'greget dalam': 1015,\n",
              " 'dalam hal': 640,\n",
              " 'hal network': 1039,\n",
              " 'network and': 2083,\n",
              " 'and speed': 215,\n",
              " 'speed setidaknya': 2997,\n",
              " 'setidaknya provider_name': 2903,\n",
              " 'lebih irit': 1696,\n",
              " 'irit buat': 1198,\n",
              " 'buat anak': 521,\n",
              " 'anak kere': 212,\n",
              " 'kere seperti': 1502,\n",
              " 'seperti saya': 2867,\n",
              " 'harusnya': 1076,\n",
              " 'juga': 1322,\n",
              " 'provider_name harusnya': 2464,\n",
              " 'harusnya boikot': 1077,\n",
              " 'provider_name kartu': 2484,\n",
              " 'kartu mahal': 1400,\n",
              " 'mahal lebih': 1765,\n",
              " 'lebih bagus': 1691,\n",
              " 'bagus juga': 285,\n",
              " 'juga provider_name': 1328,\n",
              " 'berbagi': 399,\n",
              " 'provider_name berbagi': 2425,\n",
              " 'berbagi berkah': 400,\n",
              " 'menit': 1961,\n",
              " 'kacau': 1336,\n",
              " 'baru isi': 347,\n",
              " 'kuota tapi': 1608,\n",
              " 'tapi baru': 3095,\n",
              " 'baru menit': 350,\n",
              " 'menit langsung': 1962,\n",
              " 'langsung habis': 1675,\n",
              " 'habis kacau': 1028,\n",
              " 'kacau provider_name': 1338,\n",
              " 'sinyalmu': 2959,\n",
              " 'sih': 2922,\n",
              " 'akhir': 161,\n",
              " 'sinyalmu jelek': 2960,\n",
              " 'jelek banget': 1297,\n",
              " 'banget sih': 314,\n",
              " 'sih akhir': 2923,\n",
              " 'akhir akhir': 162,\n",
              " 'akhir ini': 163,\n",
              " 'ini provider_name': 1161,\n",
              " 'pergerakan': 2309,\n",
              " 'masif': 1852,\n",
              " 'pki': 2343,\n",
              " 'antek2nya': 221,\n",
              " 'melalui': 1892,\n",
              " 'mari': 1840,\n",
              " 'hancurkan': 1045,\n",
              " 'provider_name pergerakan': 2532,\n",
              " 'pergerakan masif': 2310,\n",
              " 'masif pki': 1853,\n",
              " 'pki dan': 2345,\n",
              " 'dan antek2nya': 647,\n",
              " 'antek2nya melalui': 222,\n",
              " 'melalui iklan': 1894,\n",
              " 'provider_name mari': 2506,\n",
              " 'mari hancurkan': 1841,\n",
              " 'hancurkan pki': 1046,\n",
              " 'pki melalui': 2346,\n",
              " 'melalui boikot': 1893,\n",
              " 'setia': 2892,\n",
              " 'jangan': 1246,\n",
              " 'menari': 1937,\n",
              " 'tabuhan': 3068,\n",
              " 'gendang': 982,\n",
              " 'orang': 2167,\n",
              " 'lain': 1638,\n",
              " 'isya': 1208,\n",
              " 'tarawih': 3110,\n",
              " 'alhamdulillah masih': 189,\n",
              " 'masih setia': 1864,\n",
              " 'setia dengan': 2893,\n",
              " 'dengan provider_name': 740,\n",
              " 'provider_name jangan': 2475,\n",
              " 'jangan menari': 1248,\n",
              " 'menari di': 1938,\n",
              " 'di tabuhan': 784,\n",
              " 'tabuhan gendang': 3069,\n",
              " 'gendang orang': 983,\n",
              " 'orang lain': 2168,\n",
              " 'lain selamat': 1644,\n",
              " 'selamat isya': 2827,\n",
              " 'isya dan': 1209,\n",
              " 'dan tarawih': 664,\n",
              " 'kira': 1516,\n",
              " 'diganti': 822,\n",
              " 'komplain': 1540,\n",
              " 'sana': 2710,\n",
              " 'sini': 2939,\n",
              " 'php': 2335,\n",
              " 'aku kira': 179,\n",
              " 'kira diganti': 1517,\n",
              " 'diganti pulsaku': 823,\n",
              " 'pulsaku udah': 2608,\n",
              " 'udah komplain': 3283,\n",
              " 'komplain sana': 1542,\n",
              " 'sana sini': 2711,\n",
              " 'sini kok': 2941,\n",
              " 'kok cuma': 1529,\n",
              " 'cuma php': 626,\n",
              " 'php provider_name': 2336,\n",
              " 'sinyalmu kenapa': 2961,\n",
              " 'kenapa provider_name': 1483,\n",
              " 'musuh': 2060,\n",
              " 'ulama': 3291,\n",
              " 'provider_name musuh': 2520,\n",
              " 'musuh ulama': 2061,\n",
              " 'ulama boikot': 3292,\n",
              " 'sudah': 3024,\n",
              " 'lama': 1647,\n",
              " 'user_mention sudah': 3341,\n",
              " 'sudah lama': 3036,\n",
              " 'lama gak': 1648,\n",
              " 'gak pakai': 955,\n",
              " 'benci': 389,\n",
              " 'kelakuan': 1462,\n",
              " 'kamu': 1369,\n",
              " 'lihat': 1724,\n",
              " 'gambar': 960,\n",
              " 'palu': 2225,\n",
              " 'arit': 246,\n",
              " 'saya gak': 2742,\n",
              " 'gak benci': 945,\n",
              " 'benci tapi': 390,\n",
              " 'tapi kelakuan': 3100,\n",
              " 'kelakuan user_mention': 1463,\n",
              " 'user_mention yang': 3345,\n",
              " 'yang bikin': 3403,\n",
              " 'bikin boikot': 454,\n",
              " 'pendukung pki': 2279,\n",
              " 'pki coba': 2344,\n",
              " 'coba kamu': 593,\n",
              " 'kamu lihat': 1372,\n",
              " 'lihat iklan': 1725,\n",
              " 'provider_name ada': 2404,\n",
              " 'ada gambar': 118,\n",
              " 'gambar palu': 961,\n",
              " 'palu arit': 2226,\n",
              " 'ht': 1122,\n",
              " 'puaspake': 2589,\n",
              " 'noh': 2105,\n",
              " 'pakek': 2202,\n",
              " 'gimana': 986,\n",
              " 'thu': 3206,\n",
              " 'user_mention user_mention': 3344,\n",
              " 'user_mention ht': 3337,\n",
              " 'ht nya': 1123,\n",
              " 'nya puaspake': 2129,\n",
              " 'puaspake provider_name': 2590,\n",
              " 'provider_name noh': 2522,\n",
              " 'noh aku': 2106,\n",
              " 'aku pakek': 181,\n",
              " 'pakek provider_name': 2203,\n",
              " 'provider_name gimana': 2456,\n",
              " 'gimana thu': 989,\n",
              " 'digabung': 818,\n",
              " '3g': 51,\n",
              " 'sayang': 2758,\n",
              " 'terpakai': 3176,\n",
              " 'mubazir': 2027,\n",
              " 'temennya': 3142,\n",
              " 'setan': 2885,\n",
              " 'lho': 1720,\n",
              " 'bisa gak': 476,\n",
              " 'gak sih': 957,\n",
              " 'sih kuota': 2924,\n",
              " 'kuota 4g': 1594,\n",
              " '4g digabung': 68,\n",
              " 'digabung saja': 819,\n",
              " 'saja sama': 2680,\n",
              " 'sama 3g': 2686,\n",
              " '3g sayang': 55,\n",
              " 'sayang gak': 2759,\n",
              " 'gak terpakai': 959,\n",
              " 'terpakai mubazir': 3179,\n",
              " 'mubazir mubazir': 2029,\n",
              " 'mubazir itu': 2028,\n",
              " 'itu temennya': 1216,\n",
              " 'temennya setan': 3143,\n",
              " 'setan lho': 2886,\n",
              " 'lho provider_name': 1721,\n",
              " 'rejeki': 2629,\n",
              " 'pejet2': 2254,\n",
              " 'semoga': 2845,\n",
              " 'depan': 748,\n",
              " 'samsung': 2708,\n",
              " 'j5': 1218,\n",
              " 'medan': 1883,\n",
              " 'indonesia': 1137,\n",
              " 'rejeki pejet2': 2631,\n",
              " 'pejet2 semoga': 2255,\n",
              " 'semoga ke': 2847,\n",
              " 'ke depan': 1425,\n",
              " 'depan dapat': 749,\n",
              " 'dapat samsung': 680,\n",
              " 'samsung j5': 2709,\n",
              " 'j5 product_name': 1219,\n",
              " 'provider_name medan': 2511,\n",
              " 'medan indonesia': 1884,\n",
              " 'indonesia url': 1139,\n",
              " 'asik': 249,\n",
              " 'kencang': 1487,\n",
              " 'begini': 365,\n",
              " 'asik juga': 250,\n",
              " 'juga kencang': 1327,\n",
              " 'kencang begini': 1489,\n",
              " 'begini provider_name': 367,\n",
              " 'beli': 377,\n",
              " 'jika': 1310,\n",
              " 'edge': 895,\n",
              " 'buat apa': 522,\n",
              " 'apa beli': 224,\n",
              " 'beli paket': 379,\n",
              " 'paket 4g': 2205,\n",
              " '4g jika': 71,\n",
              " 'jika jaringan': 1311,\n",
              " 'jaringan internetnya': 1264,\n",
              " 'internetnya masih': 1191,\n",
              " 'masih edge': 1858,\n",
              " 'edge provider_name': 896,\n",
              " 'bagaimana': 275,\n",
              " 'bagaimana ini': 276,\n",
              " '4g tapi': 80,\n",
              " 'tapi lemot': 3105,\n",
              " 'nelepon': 2075,\n",
              " 'sesama': 2876,\n",
              " '20': 23,\n",
              " '000': 0,\n",
              " 'cukup': 610,\n",
              " '23': 33,\n",
              " 'bangsat': 319,\n",
              " 'nelepon ke': 2076,\n",
              " 'ke sesama': 1436,\n",
              " 'sesama provider_name': 2877,\n",
              " 'provider_name pulsa': 2538,\n",
              " 'pulsa 20': 2595,\n",
              " '20 000': 24,\n",
              " '000 cuma': 1,\n",
              " 'cuma cukup': 621,\n",
              " 'cukup buat': 611,\n",
              " 'buat 23': 520,\n",
              " '23 menit': 34,\n",
              " 'menit provider_name': 1965,\n",
              " 'provider_name bangsat': 2418,\n",
              " 'bangsat provider_name': 323,\n",
              " 'signal': 2919,\n",
              " 'bekasi': 368,\n",
              " 'internetan': 1180,\n",
              " 'sekali': 2796,\n",
              " 'tadi': 3070,\n",
              " 'subuh': 3018,\n",
              " 'signal 4g': 2920,\n",
              " 'provider_name bekasi': 2421,\n",
              " 'bekasi kenapa': 369,\n",
              " 'kenapa gak': 1477,\n",
              " 'bisa internetan': 479,\n",
              " 'internetan sama': 1184,\n",
              " 'sama sekali': 2695,\n",
              " 'sekali dari': 2797,\n",
              " 'dari tadi': 698,\n",
              " 'tadi subuh': 3072,\n",
              " 'tarif': 3111,\n",
              " 'super': 3055,\n",
              " 'naik': 2064,\n",
              " 'negara': 2073,\n",
              " 'murah': 2048,\n",
              " 'provider_name tarif': 2559,\n",
              " 'tarif internet': 3112,\n",
              " ...}"
            ]
          },
          "metadata": {},
          "execution_count": 16
        }
      ]
    },
    {
      "cell_type": "code",
      "source": [
        "count_repr.toarray()"
      ],
      "metadata": {
        "colab": {
          "base_uri": "https://localhost:8080/"
        },
        "id": "1Bz2v28b4fKf",
        "outputId": "06da7cbc-34a3-4690-8842-7aae0df87100"
      },
      "execution_count": 17,
      "outputs": [
        {
          "output_type": "execute_result",
          "data": {
            "text/plain": [
              "array([[0, 0, 0, ..., 0, 0, 0],\n",
              "       [0, 0, 0, ..., 0, 0, 0],\n",
              "       [0, 0, 0, ..., 0, 0, 0],\n",
              "       ...,\n",
              "       [0, 0, 0, ..., 0, 0, 0],\n",
              "       [0, 0, 0, ..., 0, 0, 0],\n",
              "       [0, 0, 0, ..., 0, 0, 0]])"
            ]
          },
          "metadata": {},
          "execution_count": 17
        }
      ]
    },
    {
      "cell_type": "markdown",
      "source": [
        "### TF-IDF"
      ],
      "metadata": {
        "id": "ORY7XoBv4sR0"
      }
    },
    {
      "cell_type": "markdown",
      "source": [
        "Almost the same as Count Vector, but the calculation method is done by considering the number of words in a sentence and the number of words in the document. So words can have different weights depending on the number of occurrences. The more often it appears in the sentences in the document, the less weight its value indicates that the word does not really affect the meaning of the sentence."
      ],
      "metadata": {
        "id": "mg9jCJfe4uPm"
      }
    },
    {
      "cell_type": "code",
      "source": [
        "tfidf_vect = TfidfVectorizer(max_features=10_000)\n",
        "tfidf_repr = tfidf_vect.fit_transform(df[\"cleaned_text\"])\n",
        "tfidf_repr"
      ],
      "metadata": {
        "colab": {
          "base_uri": "https://localhost:8080/"
        },
        "id": "Rp_D7p0U5g1A",
        "outputId": "22ec814a-7384-448b-8de5-69c760079a4e"
      },
      "execution_count": 18,
      "outputs": [
        {
          "output_type": "execute_result",
          "data": {
            "text/plain": [
              "<300x1020 sparse matrix of type '<class 'numpy.float64'>'\n",
              "\twith 3145 stored elements in Compressed Sparse Row format>"
            ]
          },
          "metadata": {},
          "execution_count": 18
        }
      ]
    },
    {
      "cell_type": "code",
      "source": [
        "tfidf_repr.toarray()"
      ],
      "metadata": {
        "colab": {
          "base_uri": "https://localhost:8080/"
        },
        "id": "3HkOSghnEN7n",
        "outputId": "daad545a-7992-494d-a97e-58aeedcf08cd"
      },
      "execution_count": 19,
      "outputs": [
        {
          "output_type": "execute_result",
          "data": {
            "text/plain": [
              "array([[0., 0., 0., ..., 0., 0., 0.],\n",
              "       [0., 0., 0., ..., 0., 0., 0.],\n",
              "       [0., 0., 0., ..., 0., 0., 0.],\n",
              "       ...,\n",
              "       [0., 0., 0., ..., 0., 0., 0.],\n",
              "       [0., 0., 0., ..., 0., 0., 0.],\n",
              "       [0., 0., 0., ..., 0., 0., 0.]])"
            ]
          },
          "metadata": {},
          "execution_count": 19
        }
      ]
    },
    {
      "cell_type": "markdown",
      "source": [
        "## Model Building"
      ],
      "metadata": {
        "id": "cMP0WAd8D1c4"
      }
    },
    {
      "cell_type": "markdown",
      "source": [
        "Multinomial (classification) means there are some labels "
      ],
      "metadata": {
        "id": "9_opn-wqERQM"
      }
    },
    {
      "cell_type": "code",
      "source": [
        "logres = LogisticRegression()\n",
        "multi_nb = MultinomialNB()"
      ],
      "metadata": {
        "id": "iI5AdPcrD4u0"
      },
      "execution_count": 20,
      "outputs": []
    },
    {
      "cell_type": "markdown",
      "source": [
        "## Train and Test Model"
      ],
      "metadata": {
        "id": "GhGvS5nGEjYQ"
      }
    },
    {
      "cell_type": "code",
      "source": [
        "target = df[\"Sentiment\"].map({\"negative\":0, \"positive\":1})\n",
        "features = df[\"cleaned_text\"]"
      ],
      "metadata": {
        "id": "mWCSfVOWEabd"
      },
      "execution_count": 21,
      "outputs": []
    },
    {
      "cell_type": "markdown",
      "source": [
        "### Split Data"
      ],
      "metadata": {
        "id": "f_BHuNKPEyzX"
      }
    },
    {
      "cell_type": "code",
      "source": [
        "train_x, test_x, train_y, test_y = train_test_split(features,target, test_size=0.2, random_state=42)"
      ],
      "metadata": {
        "id": "ss5z9FyXEyLF"
      },
      "execution_count": 22,
      "outputs": []
    },
    {
      "cell_type": "markdown",
      "source": [
        "### Pipeline"
      ],
      "metadata": {
        "id": "NCncISLfFNlT"
      }
    },
    {
      "cell_type": "code",
      "source": [
        "#Pipeline Logistic\n",
        "logres_pipe = Pipeline(\n",
        "    [\n",
        "     (\"feature_extractions\", tfidf_vect),\n",
        "     (\"classifier\", logres)\n",
        "    ]\n",
        ")\n",
        "\n",
        "#Pipeline NB\n",
        "#Used count vector because naive bayes can't accept negative numbers\n",
        "multinb_pipe = Pipeline(\n",
        "    [\n",
        "     (\"feature_extractions\", count_vect),\n",
        "     (\"classifier\", multi_nb)\n",
        "    ]\n",
        ")"
      ],
      "metadata": {
        "id": "1bJ-08IEFcwD"
      },
      "execution_count": 23,
      "outputs": []
    },
    {
      "cell_type": "markdown",
      "source": [
        "### Testing Model"
      ],
      "metadata": {
        "id": "-gGlvDf3Gn0P"
      }
    },
    {
      "cell_type": "code",
      "source": [
        "multinb_pipe.fit(train_x, train_y)\n",
        "multinb_pipe.score(test_x, test_y)"
      ],
      "metadata": {
        "colab": {
          "base_uri": "https://localhost:8080/"
        },
        "id": "PFGqMk4zGhPh",
        "outputId": "352bcce6-da9b-4090-d9c4-0a47352fd144"
      },
      "execution_count": 24,
      "outputs": [
        {
          "output_type": "execute_result",
          "data": {
            "text/plain": [
              "0.8666666666666667"
            ]
          },
          "metadata": {},
          "execution_count": 24
        }
      ]
    },
    {
      "cell_type": "code",
      "source": [
        "logres_pipe.fit(train_x, train_y)\n",
        "logres_pipe.score(test_x, test_y)"
      ],
      "metadata": {
        "colab": {
          "base_uri": "https://localhost:8080/"
        },
        "id": "2VlEyt2FFK5h",
        "outputId": "b1dee56d-3eb2-4310-a98a-9f7ab93df3f9"
      },
      "execution_count": 25,
      "outputs": [
        {
          "output_type": "execute_result",
          "data": {
            "text/plain": [
              "0.85"
            ]
          },
          "metadata": {},
          "execution_count": 25
        }
      ]
    },
    {
      "cell_type": "markdown",
      "source": [
        "## Evaluasi Model"
      ],
      "metadata": {
        "id": "UgoEWkGmG3kT"
      }
    },
    {
      "cell_type": "code",
      "source": [
        "#Multimonial Naive Bayes\n",
        "multinb_report=classification_report(y_true=test_y, y_pred=multinb_pipe.predict(test_x))\n",
        "print(multinb_report)"
      ],
      "metadata": {
        "colab": {
          "base_uri": "https://localhost:8080/"
        },
        "id": "pYvpvG_tG-at",
        "outputId": "3f1915a2-ac28-4e90-bcbd-1066b8f145bf"
      },
      "execution_count": 26,
      "outputs": [
        {
          "output_type": "stream",
          "name": "stdout",
          "text": [
            "              precision    recall  f1-score   support\n",
            "\n",
            "           0       0.88      0.88      0.88        33\n",
            "           1       0.85      0.85      0.85        27\n",
            "\n",
            "    accuracy                           0.87        60\n",
            "   macro avg       0.87      0.87      0.87        60\n",
            "weighted avg       0.87      0.87      0.87        60\n",
            "\n"
          ]
        }
      ]
    },
    {
      "cell_type": "code",
      "source": [
        "#Logistic Regression\n",
        "logres_report=classification_report(y_true=test_y, y_pred=logres_pipe.predict(test_x))\n",
        "print(logres_report)"
      ],
      "metadata": {
        "colab": {
          "base_uri": "https://localhost:8080/"
        },
        "id": "tVg71hrNHquX",
        "outputId": "e002b7b1-ee9c-4403-ea55-b1fba238a48e"
      },
      "execution_count": 27,
      "outputs": [
        {
          "output_type": "stream",
          "name": "stdout",
          "text": [
            "              precision    recall  f1-score   support\n",
            "\n",
            "           0       0.80      0.97      0.88        33\n",
            "           1       0.95      0.70      0.81        27\n",
            "\n",
            "    accuracy                           0.85        60\n",
            "   macro avg       0.88      0.84      0.84        60\n",
            "weighted avg       0.87      0.85      0.85        60\n",
            "\n"
          ]
        }
      ]
    },
    {
      "cell_type": "markdown",
      "source": [
        "## Model Deployment"
      ],
      "metadata": {
        "id": "vSYwbZR7H6B8"
      }
    },
    {
      "cell_type": "code",
      "source": [
        "#Change telkomsel|three|im3|smartfren|axis to <PROVIDER_NAME>\n",
        "re.sub(\"(telkomsel|three|im3|smartfren|axis)\", \"<PROVIDER_NAME>\", \"saya suka telkomsel\", flags=re.IGNORECASE) #to ignore case sensitive"
      ],
      "metadata": {
        "colab": {
          "base_uri": "https://localhost:8080/",
          "height": 35
        },
        "id": "Tk6QWLw6I_c2",
        "outputId": "3317ab49-bcd7-489e-defa-94e4eba5a446"
      },
      "execution_count": 33,
      "outputs": [
        {
          "output_type": "execute_result",
          "data": {
            "text/plain": [
              "'saya suka <PROVIDER_NAME>'"
            ],
            "application/vnd.google.colaboratory.intrinsic+json": {
              "type": "string"
            }
          },
          "metadata": {},
          "execution_count": 33
        }
      ]
    },
    {
      "cell_type": "code",
      "source": [
        "# Change the provider names to the standard form\n",
        "def namespace_change(text):\n",
        "  providers=[\"telkomsel\",\"three\",\"im3\",\"smartfren\",\"axis\"]\n",
        "  return re.sub(\n",
        "      pattern=\"({})\".format(\"|\".join(providers)),\n",
        "      repl=\"<PROVIDER NAME>\",\n",
        "      string=text,\n",
        "      flags=re.IGNORECASE)\n",
        "\n",
        "#Change \"mention\" to the standard form\n",
        "def mention_change(text):\n",
        "  return re.sub(\n",
        "      pattern=\"@\\S+\",\n",
        "      repl=\"<USER MENTION>\",\n",
        "      string=text,\n",
        "      flags=re.IGNORECASE)\n",
        "  \n",
        "print(namespace_change(\"nabilah menggunakan Telkomsel\"))\n",
        "print(mention_change(\"@03nabilah ayo kita pakai telkomsel\"))"
      ],
      "metadata": {
        "colab": {
          "base_uri": "https://localhost:8080/"
        },
        "id": "hOowCDeIH9mU",
        "outputId": "589e3b01-d3bf-457e-8aa0-c6c6c9cfc218"
      },
      "execution_count": 35,
      "outputs": [
        {
          "output_type": "stream",
          "name": "stdout",
          "text": [
            "nabilah menggunakan <PROVIDER NAME>\n",
            "<USER MENTION> ayo kita pakai telkomsel\n"
          ]
        }
      ]
    },
    {
      "cell_type": "code",
      "source": [
        "#Give explanation for label 0 and 1\n",
        "sentiment_map={0:\"Negatif\", 1:\"Positif\"}\n",
        "\n",
        "#Create the main function to be run\n",
        "def predict_sentiment(review):\n",
        "  review_formatted = namespace_change(review)\n",
        "  review_formatted = mention_change(review_formatted)\n",
        "  review_cleaned = preprocess_text(review_formatted)\n",
        "\n",
        "  prediction = int(logres_pipe.predict([review_cleaned]))\n",
        "  sentiment = sentiment_map.get(prediction)\n",
        "\n",
        "  return sentiment\n",
        "\n",
        "predict_sentiment(\"@admin kualitas sinyal telkomsel baik\")\n"
      ],
      "metadata": {
        "colab": {
          "base_uri": "https://localhost:8080/",
          "height": 35
        },
        "id": "YoASb7G2KA8j",
        "outputId": "84426dcf-9f8a-4efc-d9f0-aec41cb74b67"
      },
      "execution_count": 43,
      "outputs": [
        {
          "output_type": "execute_result",
          "data": {
            "text/plain": [
              "'Negatif'"
            ],
            "application/vnd.google.colaboratory.intrinsic+json": {
              "type": "string"
            }
          },
          "metadata": {},
          "execution_count": 43
        }
      ]
    },
    {
      "cell_type": "code",
      "source": [
        " #Create Interface can be done by entering 3 argument keywords in class gr.Interface namely fn, inputs, and outputs\n",
        "\n",
        " iface = gr.Interface(\n",
        "     fn=predict_sentiment,\n",
        "     inputs=gr.inputs.Textbox(lines=2, placeholder=\"Review Anda tentang Provider ini\"),\n",
        "     outputs=\"text\")\n",
        " iface.launch()"
      ],
      "metadata": {
        "colab": {
          "base_uri": "https://localhost:8080/",
          "height": 643
        },
        "id": "C8ywUf0PKOBP",
        "outputId": "6f985e77-9349-4026-965a-9a645e0f02a8"
      },
      "execution_count": 44,
      "outputs": [
        {
          "output_type": "stream",
          "name": "stdout",
          "text": [
            "Colab notebook detected. To show errors in colab notebook, set `debug=True` in `launch()`\n",
            "Running on public URL: https://53859.gradio.app\n",
            "\n",
            "This share link expires in 72 hours. For free permanent hosting, check out Spaces (https://huggingface.co/spaces)\n"
          ]
        },
        {
          "output_type": "display_data",
          "data": {
            "text/plain": [
              "<IPython.lib.display.IFrame at 0x7f1e52a50a10>"
            ],
            "text/html": [
              "\n",
              "        <iframe\n",
              "            width=\"900\"\n",
              "            height=\"500\"\n",
              "            src=\"https://53859.gradio.app\"\n",
              "            frameborder=\"0\"\n",
              "            allowfullscreen\n",
              "        ></iframe>\n",
              "        "
            ]
          },
          "metadata": {}
        },
        {
          "output_type": "execute_result",
          "data": {
            "text/plain": [
              "(<fastapi.applications.FastAPI at 0x7f1e56e6c990>,\n",
              " 'http://127.0.0.1:7863/',\n",
              " 'https://53859.gradio.app')"
            ]
          },
          "metadata": {},
          "execution_count": 44
        }
      ]
    }
  ]
}